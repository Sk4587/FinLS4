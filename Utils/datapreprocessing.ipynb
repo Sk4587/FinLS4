{
 "cells": [
  {
   "cell_type": "code",
   "execution_count": 1,
   "metadata": {},
   "outputs": [],
   "source": [
    "import pandas as pd\n",
    "import numpy as np\n",
    "import sys\n",
    "import os\n",
    "\n",
    "# Get the current working directory\n",
    "current_directory = os.getcwd()\n",
    "\n",
    "# Get the parent directory\n",
    "parent_directory = os.path.dirname(current_directory)\n",
    "\n",
    "\n",
    "# Add the parent directory to the system path\n",
    "sys.path.append(parent_directory)\n",
    "\n",
    "from Configuration import Config\n",
    "cfg = Config()"
   ]
  },
  {
   "cell_type": "code",
   "execution_count": 2,
   "metadata": {},
   "outputs": [
    {
     "name": "stdout",
     "output_type": "stream",
     "text": [
      "{'start_date': '01-01-2000', 'h': 1, 'l': 20, 'pred': 1, 'dataloc': './Data/', 'etflistloc': './Data/stocks-etfs-list.csv', 'ngpu': 1, 'loc': './Results', 'modelsloc': './TrainedModels/', 'plotsloc': './Plots/', 'resultsloc': './Results/', 'tanh_coeff': 100, 'z_dim': 20, 'hid_d': 8, 'hid_g': 8, 'checkpoint_epoch': 20, 'batch_size': 4096, 'diter': 1, 'n_epochs': 10, 'ngrad': 5, 'vl_later': False, 'tr': 0.8, 'vl': 0.1, 'plot': False, 'z_dim_adjusted': 8, 'hid_d_s': [8], 'hid_g_s': [], 'lrg_s': [1e-05], 'lrd_s': [1e-05], 'vl_later_adjusted': True, 'nres': 1, 'resultsname': './Results/results.csv', 'figure_size': [15.75, 9.385]}\n",
      "01-01-2000\n"
     ]
    }
   ],
   "source": [
    "\n",
    "print(cfg.start_date)"
   ]
  }
 ],
 "metadata": {
  "kernelspec": {
   "display_name": "torch",
   "language": "python",
   "name": "python3"
  },
  "language_info": {
   "codemirror_mode": {
    "name": "ipython",
    "version": 3
   },
   "file_extension": ".py",
   "mimetype": "text/x-python",
   "name": "python",
   "nbconvert_exporter": "python",
   "pygments_lexer": "ipython3",
   "version": "3.12.2"
  }
 },
 "nbformat": 4,
 "nbformat_minor": 2
}
